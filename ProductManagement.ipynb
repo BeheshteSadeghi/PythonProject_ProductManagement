{
  "cells": [
    {
      "cell_type": "code",
      "execution_count": 1,
      "metadata": {
        "id": "odEDOt3f1hNS"
      },
      "outputs": [],
      "source": [
        "import pandas as pd\n",
        "import numpy as np\n",
        "import matplotlib.pyplot as plt"
      ]
    },
    {
      "cell_type": "code",
      "execution_count": 2,
      "metadata": {
        "id": "wnjq8C-N1hNY"
      },
      "outputs": [],
      "source": [
        "proj_dict = {}"
      ]
    },
    {
      "cell_type": "code",
      "execution_count": 3,
      "metadata": {
        "id": "IcYYWAUG1hNZ"
      },
      "outputs": [],
      "source": [
        "def get_proj_name():\n",
        "    while True:\n",
        "        proj_name = input(\"Enter project's name : \")\n",
        "        if proj_name.strip()=='':\n",
        "            print(\"\\nThe name you entered is not valid. Enter another name!\\n\")\n",
        "            continue\n",
        "\n",
        "        elif proj_name in proj_dict.keys():\n",
        "            print(\"\\nAnother project with this name exists. Enter another name!\\n\")\n",
        "            continue\n",
        "        else:\n",
        "            break\n",
        "    return proj_name"
      ]
    },
    {
      "cell_type": "code",
      "execution_count": 4,
      "metadata": {
        "id": "1DK6Tykv1hNa"
      },
      "outputs": [],
      "source": [
        "def get_ID(proj_name):\n",
        "    while True:\n",
        "        task_ID = input(\"Enter task's ID : \")\n",
        "        if task_ID in proj_dict[proj_name].keys():\n",
        "            break\n",
        "        else:\n",
        "            print(\"\\nThe ID you entered does not exist. Enter another ID!\\n\")\n",
        "\n",
        "    return task_ID"
      ]
    },
    {
      "cell_type": "code",
      "execution_count": 5,
      "metadata": {
        "id": "_8SY7I1s1hNb"
      },
      "outputs": [],
      "source": [
        "def add_proj():\n",
        "    proj_name = get_proj_name()\n",
        "    proj_dict[proj_name] = {}\n",
        "    print(f\"\\nThe project '{proj_name}' is added!\\n\")\n",
        "    return"
      ]
    },
    {
      "cell_type": "code",
      "execution_count": 6,
      "metadata": {
        "id": "WyQkZcBB1hNb"
      },
      "outputs": [],
      "source": [
        "def add_ID(proj_name):\n",
        "    while True:\n",
        "        task_ID = input(\"Enter task's ID : \")\n",
        "        if task_ID in proj_dict[proj_name].keys():\n",
        "            print(\"\\nAnother task with this ID exists. Enter another ID!\\n\")\n",
        "        else:\n",
        "            break\n",
        "\n",
        "    proj_dict[proj_name][task_ID] = []\n",
        "    return task_ID"
      ]
    },
    {
      "cell_type": "code",
      "execution_count": 7,
      "metadata": {
        "id": "CURG4CTd1hNc"
      },
      "outputs": [],
      "source": [
        "def add_task_name(proj_name, ID,flag):\n",
        "    while True:\n",
        "        task_name = input(f\"Enter new task's name :\")\n",
        "        if task_name == \"\":\n",
        "            print(\"Enter a valid name!\\n\")\n",
        "            continue\n",
        "        if flag==1:\n",
        "            proj_dict[proj_name][ID] = [task_name]\n",
        "            break\n",
        "        else:\n",
        "            proj_dict[proj_name][ID][0] = task_name\n",
        "            break\n",
        "    return"
      ]
    },
    {
      "cell_type": "code",
      "execution_count": 8,
      "metadata": {
        "id": "xwMkK6LE1hNd"
      },
      "outputs": [],
      "source": [
        "def add_task_desc(proj_name, ID, flag):\n",
        "    while True:\n",
        "        task_desc = input(f\"Enter the description of task {proj_dict[proj_name][ID][0]} :\")\n",
        "        if task_desc == \"\":\n",
        "            print(\"Enter a valid description!\\n\")\n",
        "            continue\n",
        "        else:\n",
        "            break\n",
        "    if flag==1:\n",
        "        proj_dict[proj_name][ID].append(task_desc)\n",
        "    else:\n",
        "        proj_dict[proj_name][ID][1] = task_desc\n",
        "    return"
      ]
    },
    {
      "cell_type": "code",
      "execution_count": 9,
      "metadata": {
        "id": "FSAEnjsq1hNd"
      },
      "outputs": [],
      "source": [
        "def add_task_status(proj_name, ID,flag):\n",
        "    if flag==1:\n",
        "        proj_dict[proj_name][ID].append('False')\n",
        "    else:\n",
        "        if proj_dict[proj_name][ID][5]>0 :\n",
        "            proj_dict[proj_name][ID][2] = 'True'\n",
        "    return"
      ]
    },
    {
      "cell_type": "code",
      "execution_count": 10,
      "metadata": {
        "id": "hM7SCp3r1hNe"
      },
      "outputs": [],
      "source": [
        "def add_task_start(proj_name, ID,flag):\n",
        "    if flag==1:\n",
        "        proj_dict[proj_name][ID].append(0)\n",
        "    else:\n",
        "        while True:\n",
        "            start_time = input(\"Enter start time :\")\n",
        "            if start_time == \"\" or start_time.isdecimal()==False or not(0<=int(start_time)<=24):\n",
        "                print(\"Enter a valid time!\\n\")\n",
        "                continue\n",
        "            proj_dict[proj_name][ID][3] = int(start_time)\n",
        "            break\n",
        "    return"
      ]
    },
    {
      "cell_type": "code",
      "execution_count": 11,
      "metadata": {
        "id": "YlCjQ4LK1hNf"
      },
      "outputs": [],
      "source": [
        "def add_task_end(proj_name, ID,flag):\n",
        "    if flag==1:\n",
        "        proj_dict[proj_name][ID].append(0)\n",
        "    else:\n",
        "        while True:\n",
        "            end_time = input(\"Enter end time :\")\n",
        "            if end_time == \"\" or end_time.isdecimal()==False or not(0<=int(end_time)<=24):\n",
        "                print(\"Enter a valid time!\\n\")\n",
        "                continue\n",
        "            proj_dict[proj_name][ID][4] = int(end_time)\n",
        "            break\n",
        "    return"
      ]
    },
    {
      "cell_type": "code",
      "execution_count": 12,
      "metadata": {
        "id": "uAYSvhBe1hNf"
      },
      "outputs": [],
      "source": [
        "def add_task_dur(proj_name, ID,flag):\n",
        "    duration = proj_dict[proj_name][ID][4] - proj_dict[proj_name][ID][3]\n",
        "    if flag==1:\n",
        "      proj_dict[proj_name][ID].append(duration)\n",
        "    else:\n",
        "      proj_dict[proj_name][ID][5] = duration\n",
        "    return"
      ]
    },
    {
      "cell_type": "code",
      "execution_count": 13,
      "metadata": {
        "id": "AybB3c9y1hNg"
      },
      "outputs": [],
      "source": [
        "def task_time(proj_name, ID, flag):\n",
        "    add_task_start(proj_name, ID,flag)\n",
        "    add_task_end(proj_name, ID,flag)\n",
        "    add_task_dur(proj_name, ID,flag)\n",
        "    return"
      ]
    },
    {
      "cell_type": "code",
      "execution_count": 14,
      "metadata": {
        "id": "NF31MZGQ1hNg"
      },
      "outputs": [],
      "source": [
        "def add_task(proj_name):\n",
        "    ID = add_ID(proj_name)\n",
        "    add_task_name(proj_name, ID,1)\n",
        "    add_task_desc(proj_name, ID,1)\n",
        "    add_task_status(proj_name, ID,1)\n",
        "    task_time(proj_name, ID,1)\n",
        "    return"
      ]
    },
    {
      "cell_type": "code",
      "execution_count": 15,
      "metadata": {
        "id": "pJlpIi4K1hNg"
      },
      "outputs": [],
      "source": [
        "def edit_task(proj_name, ID):\n",
        "    add_task_name(proj_name, ID,2)\n",
        "    add_task_desc(proj_name, ID,2)\n",
        "    task_time(proj_name, ID, 2)\n",
        "    add_task_status(proj_name, ID,2)\n",
        "    return"
      ]
    },
    {
      "cell_type": "code",
      "execution_count": 16,
      "metadata": {
        "id": "wZePY3Qy1hNh"
      },
      "outputs": [],
      "source": [
        "def remove_task(proj_name, ID):\n",
        "    del proj_dict[proj_name][ID]\n",
        "    return"
      ]
    },
    {
      "cell_type": "code",
      "execution_count": 17,
      "metadata": {
        "id": "h70Y4LAW1hNh"
      },
      "outputs": [],
      "source": [
        "def mark_task_done(proj_name, ID):\n",
        "    task_time(proj_name, ID, 2)\n",
        "    add_task_status(proj_name, ID, 2)\n",
        "    return"
      ]
    },
    {
      "cell_type": "code",
      "execution_count": 18,
      "metadata": {
        "id": "0fTJTAov1hNh"
      },
      "outputs": [],
      "source": [
        "def project_name():\n",
        "    proj_names = list(proj_dict.keys())\n",
        "    while True:\n",
        "        display_name = input(\"Enter project's name : \")\n",
        "        if display_name in proj_names:\n",
        "            break\n",
        "        else:\n",
        "            print(\"This name does not exist in projects' names.\\nEnter a valid name!\")\n",
        "    return display_name"
      ]
    },
    {
      "cell_type": "code",
      "execution_count": 19,
      "metadata": {
        "id": "mqAliqA91hNh"
      },
      "outputs": [],
      "source": [
        "def display_spec(lst, counter, flag=1):\n",
        "    print()\n",
        "    print(f\"Task #{counter}:\\n\")\n",
        "    print(f\"{'Name':<12} : {lst[0]}\")\n",
        "    print(f\"{'Description':<12} : {lst[1]}\")\n",
        "    print(f\"{'Status':<12} : Done\") if lst[2]=='True' else print(f\"{'Status':<12} : Not done\")\n",
        "    if flag==1:\n",
        "        print(f\"{'Start time':<12} : {lst[3]}\")\n",
        "        print(f\"{'End time':<12} : {lst[4]}\")\n",
        "    print(f\"{'Duration':<12} : {lst[5]}\")\n",
        "    return"
      ]
    },
    {
      "cell_type": "code",
      "execution_count": 20,
      "metadata": {
        "id": "iMbkz4Mi1hNi"
      },
      "outputs": [],
      "source": [
        "def display_tasks(proj_name):\n",
        "    tasks_dict = proj_dict[proj_name]\n",
        "    tasks_list = list(tasks_dict.keys())\n",
        "    counter = 0\n",
        "    for task in tasks_list:\n",
        "        counter += 1\n",
        "        turn = tasks_dict[task]\n",
        "        display_spec(turn, counter)\n",
        "    return"
      ]
    },
    {
      "cell_type": "code",
      "execution_count": 21,
      "metadata": {
        "id": "eOGGmDKY1hNi"
      },
      "outputs": [],
      "source": [
        "def search_tasks(proj_name):\n",
        "    while True:\n",
        "        task_name = input(\"Enter task's name : \")\n",
        "        tasks_dict = proj_dict[proj_name]\n",
        "        tasks_list = list(tasks_dict.values())\n",
        "        counter = 0\n",
        "        for spec in tasks_list:\n",
        "            if spec[0] == task_name:\n",
        "                counter += 1\n",
        "                display_spec(spec, counter, 2)\n",
        "        if counter>0:\n",
        "            break\n",
        "        else:\n",
        "            print()\n",
        "            print(\"There is no task with this name in this project!\")\n",
        "            ans = input(\"Do you want to try another name? (y/n) : \").lower()\n",
        "            if ans!='y': break\n",
        "    return"
      ]
    },
    {
      "cell_type": "code",
      "source": [
        "def bar_chart_single(proj_name):\n",
        "    tasks_dict = proj_dict[proj_name]\n",
        "    tasks_list = list(tasks_dict.values())\n",
        "    if tasks_list==[]:\n",
        "      print(\"There is no task in this project!\")\n",
        "      return\n",
        "    tasks_names = [task[0] for task in tasks_list]\n",
        "    tasks_duration = [task[5] for task in tasks_list]\n",
        "\n",
        "    plt.figure(figsize=(5,5))\n",
        "    plt.bar(tasks_names, tasks_duration, width=0.4)\n",
        "    plt.xlabel(\"Tasks Names\")\n",
        "    plt.ylabel(\"Tasks Durations\")\n",
        "    plt.title(f\"Duration of tasks in the project \\\"{proj_name}\\\"\")\n",
        "    plt.xticks(rotation=90)\n",
        "    plt.show()"
      ],
      "metadata": {
        "id": "cFEOwOeVrlNq"
      },
      "execution_count": 22,
      "outputs": []
    },
    {
      "cell_type": "code",
      "source": [
        "def bar_chart_full():\n",
        "    proj_list = list(proj_dict.keys())\n",
        "    if proj_list==[]:\n",
        "      print(\"The projects' list is empty!\")\n",
        "      return\n",
        "    tasks_names = []\n",
        "    tasks_duration = []\n",
        "    for proj_name in proj_list:\n",
        "        tasks_dict = proj_dict[proj_name]\n",
        "        tasks_list = list(tasks_dict.values())\n",
        "        if tasks_list==[]:\n",
        "          continue\n",
        "        tasks_names += [task[0] for task in tasks_list]\n",
        "        tasks_duration += [task[5] for task in tasks_list]\n",
        "    if tasks_names==[]:\n",
        "        print(\"There is no task!\")\n",
        "        return\n",
        "    plt.figure(figsize=(5,5))\n",
        "    plt.bar(tasks_names, tasks_duration, width=0.4)\n",
        "    plt.xlabel(\"Tasks Names\")\n",
        "    plt.ylabel(\"Tasks Durations\")\n",
        "    plt.title(f\"Duration of tasks\")\n",
        "    plt.xticks(rotation=90)\n",
        "    plt.show()"
      ],
      "metadata": {
        "id": "HZZ4HMpztxSc"
      },
      "execution_count": 23,
      "outputs": []
    },
    {
      "cell_type": "code",
      "source": [
        "def dict_to_df():\n",
        "      df = pd.DataFrame.from_records(\n",
        "          [\n",
        "              (level1, level2, level3[0], level3[1], level3[2], level3[3], level3[4], level3[5])\n",
        "              for level1, level2_dict in proj_dict.items()\n",
        "              for level2, level3 in level2_dict.items()\n",
        "          ],\n",
        "          columns=['Project_Name', 'Task_ID', 'Task_Name','Task_Description','Task_Done','Start_Time','End_Time','Duration']\n",
        "          )\n",
        "      return df"
      ],
      "metadata": {
        "id": "smQQCD3EEoY4"
      },
      "execution_count": 39,
      "outputs": []
    },
    {
      "cell_type": "code",
      "source": [
        "def df_to_dict(df):\n",
        "  new_dict = {}\n",
        "  proj_list = list(df.Project_Name.unique())\n",
        "  for proj in proj_list:\n",
        "    new_dict[proj] = {}\n",
        "  for i in range(df.shape[0]):\n",
        "    row = df.iloc[i]\n",
        "    new_dict[row.iloc[0]][row.iloc[1]] = [row.iloc[2], row.iloc[3], row.iloc[4], row.iloc[5], row.iloc[6], row.iloc[7]]\n",
        "  return new_dict"
      ],
      "metadata": {
        "id": "nn8ME5DqEvar"
      },
      "execution_count": 25,
      "outputs": []
    },
    {
      "cell_type": "code",
      "execution_count": 26,
      "metadata": {
        "id": "hbKGZxRQ1hNi"
      },
      "outputs": [],
      "source": [
        "def display():\n",
        "    project = project_name()\n",
        "    display_tasks(project)\n",
        "    return"
      ]
    },
    {
      "cell_type": "code",
      "execution_count": 27,
      "metadata": {
        "id": "KLucInST1hNi"
      },
      "outputs": [],
      "source": [
        "def search():\n",
        "    project = project_name()\n",
        "    search_tasks(project)\n",
        "    return"
      ]
    },
    {
      "cell_type": "code",
      "execution_count": 28,
      "metadata": {
        "id": "Pcw91b261hNj"
      },
      "outputs": [],
      "source": [
        "def operation_2():\n",
        "    proj_name = project_name()\n",
        "    add_task(proj_name)\n",
        "    return"
      ]
    },
    {
      "cell_type": "code",
      "execution_count": 29,
      "metadata": {
        "id": "5p7WsEyI1hNj"
      },
      "outputs": [],
      "source": [
        "def operation_3():\n",
        "    proj_name = project_name()\n",
        "    proj_ID = get_ID(proj_name)\n",
        "    edit_task(proj_name, proj_ID)\n",
        "    return"
      ]
    },
    {
      "cell_type": "code",
      "execution_count": 30,
      "metadata": {
        "id": "GD7OeZvE1hNj"
      },
      "outputs": [],
      "source": [
        "def operation_4():\n",
        "    proj_name = project_name()\n",
        "    proj_ID = get_ID(proj_name)\n",
        "    remove_task(proj_name, proj_ID)\n",
        "    return"
      ]
    },
    {
      "cell_type": "code",
      "execution_count": 31,
      "metadata": {
        "id": "ojt_vvWd1hNj"
      },
      "outputs": [],
      "source": [
        "def operation_5():\n",
        "    proj_name = project_name()\n",
        "    proj_ID = get_ID(proj_name)\n",
        "    mark_task_done(proj_name, proj_ID)\n",
        "    return"
      ]
    },
    {
      "cell_type": "code",
      "execution_count": 32,
      "metadata": {
        "id": "TueOqXAy1hNj"
      },
      "outputs": [],
      "source": [
        "def operation_7():\n",
        "    proj_name = project_name()\n",
        "    search_tasks(proj_name)\n",
        "    return"
      ]
    },
    {
      "cell_type": "code",
      "source": [
        "def operation_8():\n",
        "    proj_name = project_name()\n",
        "    bar_chart_single(proj_name)\n",
        "    return"
      ],
      "metadata": {
        "id": "uLgocQSUraMf"
      },
      "execution_count": 33,
      "outputs": []
    },
    {
      "cell_type": "code",
      "source": [
        "def save_data():\n",
        "    file_name = input('Enter the file name : ')\n",
        "    df = dict_to_df()\n",
        "    df.to_csv(file_name)\n",
        "    return"
      ],
      "metadata": {
        "id": "-HsanGom4IQ6"
      },
      "execution_count": 34,
      "outputs": []
    },
    {
      "cell_type": "code",
      "source": [
        "def load_data():\n",
        "  file_name = input(\"Enter the file name : \")\n",
        "  df = pd.read_csv(file_name, index_col=0)\n",
        "  proj_dict = df_to_dict(df)\n",
        "  return"
      ],
      "metadata": {
        "id": "lGotn5b2CHap"
      },
      "execution_count": 35,
      "outputs": []
    },
    {
      "cell_type": "code",
      "source": [
        "#proj_dict ={'aa': {'aa_ID1': ['aa_name1', 'aa_desc1', 'True', 3, 8, 5], 'aa_ID2': ['aa_name2', 'aa_desc2', 'False', 0, 0, 0],\n",
        "#                   'aa_ID3': ['aa_name3', 'aa_desc3', 'True', 1, 10, 9]}, 'bb': {'bb_ID1': ['bb_name1', 'bb_desc1', 'True', 3, 8, 5], 'bb_ID2': ['bb_name2', 'bb_desc2', 'False', 0, 0, 0],\n",
        "#                   'bb_ID3': ['bb_name3', 'bb_desc3', 'True', 7, 10, 3]}}"
      ],
      "metadata": {
        "id": "9_wA0fYn0nEq"
      },
      "execution_count": 36,
      "outputs": []
    },
    {
      "cell_type": "code",
      "execution_count": 40,
      "metadata": {
        "colab": {
          "base_uri": "https://localhost:8080/"
        },
        "id": "dZHdOTzC1hNk",
        "outputId": "d3e442ed-569a-44f4-8ebe-14b77e9a4292"
      },
      "outputs": [
        {
          "name": "stdout",
          "output_type": "stream",
          "text": [
            "   This is a time tracker for various tasks associated with different projects.\n",
            "****************************************************************************\n",
            "    1  : Add a new project\n",
            "    2  : Add a new task to a project\n",
            "    3  : Edit a task\n",
            "    4  : Remove a task\n",
            "    5  : Mark a task as 'Done'\n",
            "    6  : Display a project's task(s)\n",
            "    7  : Search a task within a project\n",
            "    8  : Generate a bar chart for tasks within a project\n",
            "    9  : Generate a bar chart for all the tasks in the projects' list\n",
            "    10 : Save the data in a csv file\n",
            "    11 : Load the data from a csv file\n",
            "    12 : Exit\n",
            "    Enter the appropriate number to implement the operation you want : 10\n",
            "Enter the file name : file4.csv\n",
            "****************************************************************************\n",
            "    1  : Add a new project\n",
            "    2  : Add a new task to a project\n",
            "    3  : Edit a task\n",
            "    4  : Remove a task\n",
            "    5  : Mark a task as 'Done'\n",
            "    6  : Display a project's task(s)\n",
            "    7  : Search a task within a project\n",
            "    8  : Generate a bar chart for tasks within a project\n",
            "    9  : Generate a bar chart for all the tasks in the projects' list\n",
            "    10 : Save the data in a csv file\n",
            "    11 : Load the data from a csv file\n",
            "    12 : Exit\n",
            "    Enter the appropriate number to implement the operation you want : 11\n",
            "Enter the file name : file4.csv\n",
            "****************************************************************************\n",
            "    1  : Add a new project\n",
            "    2  : Add a new task to a project\n",
            "    3  : Edit a task\n",
            "    4  : Remove a task\n",
            "    5  : Mark a task as 'Done'\n",
            "    6  : Display a project's task(s)\n",
            "    7  : Search a task within a project\n",
            "    8  : Generate a bar chart for tasks within a project\n",
            "    9  : Generate a bar chart for all the tasks in the projects' list\n",
            "    10 : Save the data in a csv file\n",
            "    11 : Load the data from a csv file\n",
            "    12 : Exit\n",
            "    Enter the appropriate number to implement the operation you want : 6\n",
            "Enter project's name : bb\n",
            "\n",
            "Task #1:\n",
            "\n",
            "Name         : task4\n",
            "Description  : desc4\n",
            "Status       : Not done\n",
            "Start time   : 0\n",
            "End time     : 0\n",
            "Duration     : 0\n",
            "****************************************************************************\n",
            "    1  : Add a new project\n",
            "    2  : Add a new task to a project\n",
            "    3  : Edit a task\n",
            "    4  : Remove a task\n",
            "    5  : Mark a task as 'Done'\n",
            "    6  : Display a project's task(s)\n",
            "    7  : Search a task within a project\n",
            "    8  : Generate a bar chart for tasks within a project\n",
            "    9  : Generate a bar chart for all the tasks in the projects' list\n",
            "    10 : Save the data in a csv file\n",
            "    11 : Load the data from a csv file\n",
            "    12 : Exit\n",
            "    Enter the appropriate number to implement the operation you want : 12\n"
          ]
        }
      ],
      "source": [
        "print(\"   This is a time tracker for various tasks associated with different projects.\")\n",
        "while True:\n",
        "    op = input('''****************************************************************************\n",
        "    1  : Add a new project\n",
        "    2  : Add a new task to a project\n",
        "    3  : Edit a task\n",
        "    4  : Remove a task\n",
        "    5  : Mark a task as 'Done'\n",
        "    6  : Display a project's task(s)\n",
        "    7  : Search a task within a project\n",
        "    8  : Generate a bar chart for tasks within a project\n",
        "    9  : Generate a bar chart for all the tasks in the projects' list\n",
        "    10 : Save the data in a csv file\n",
        "    11 : Load the data from a csv file\n",
        "    12 : Exit\n",
        "    Enter the appropriate number to implement the operation you want : ''')\n",
        "    if not(op.isnumeric()) :\n",
        "        print(\"\\nEnter a valid number!\\n\")\n",
        "        continue\n",
        "    if not(0<int(op)<13) :\n",
        "        print(\"\\nEnter a valid number!\\n\")\n",
        "        continue\n",
        "    operation = int(op)\n",
        "    if operation==12:\n",
        "        break\n",
        "    elif operation==1 :\n",
        "        add_proj()\n",
        "    elif operation==2:\n",
        "        operation_2()\n",
        "    elif operation==3:\n",
        "        operation_3()\n",
        "    elif operation==4:\n",
        "        operation_4()\n",
        "    elif operation==5:\n",
        "        operation_5()\n",
        "    elif operation==6:\n",
        "        display()\n",
        "    elif operation==7:\n",
        "        operation_7()\n",
        "    elif operation ==8:\n",
        "        operation_8()\n",
        "    elif operation==9:\n",
        "        bar_chart_full()\n",
        "    elif operation==10:\n",
        "      save_data()\n",
        "    elif operation==11:\n",
        "      load_data()\n",
        ""
      ]
    }
  ],
  "metadata": {
    "kernelspec": {
      "display_name": "base",
      "language": "python",
      "name": "python3"
    },
    "language_info": {
      "codemirror_mode": {
        "name": "ipython",
        "version": 3
      },
      "file_extension": ".py",
      "mimetype": "text/x-python",
      "name": "python",
      "nbconvert_exporter": "python",
      "pygments_lexer": "ipython3",
      "version": "3.9.7"
    },
    "colab": {
      "provenance": []
    }
  },
  "nbformat": 4,
  "nbformat_minor": 0
}